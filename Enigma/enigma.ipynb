{
 "cells": [
  {
   "cell_type": "code",
   "execution_count": 5,
   "metadata": {},
   "outputs": [],
   "source": [
    "class enigma:\n",
    "    def __init__(self, init_wheel_read):\n",
    "        assert(len(init_wheel_read) == 3 and isinstance(init_wheel_read, list))\n",
    "        self.wheel_read = init_wheel_read\n",
    "        # describing the rotators position\n",
    "        self.cum = self.wheel_read[0]*26*26 + self.wheel_read[1]*26 + self.wheel_read[2]\n",
    "        self.r = [[(self.wheel_read[0] + i)%26 for i in range(26) ],\n",
    "                  [(self.wheel_read[1] + i)%26 for i in range(26) ],\n",
    "                  [(self.wheel_read[2] + i)%26 for i in range(26) ]]\n",
    "        \n",
    "        # the inner wiring of each rotators is a map, which will be never changed\n",
    "        self.rotators = ((3, 4, 13, 24, 7, 17, 8, 16, 10, 20, 1, 18, 14,\n",
    "                          19, 5, 15, 23, 25, 6, 21, 12, 2, 9, 11, 22, 0),\n",
    "                         (0, 16, 13, 6, 14, 21, 4, 5, 17, 12, 9, 11, 24,\n",
    "                          22, 20, 1, 3, 23, 19, 2, 18, 15, 25, 8, 10, 7),\n",
    "                         (25, 10, 17, 20, 14, 16, 9, 18, 13, 4, 1, 7, 5,\n",
    "                          22, 3, 21, 11, 15, 23, 6, 19, 24, 2, 12, 0, 8))\n",
    "        # feflector is pairs matching 0->24 24->0 ... never change\n",
    "        self.reflector = ((0,  1,  2,  3, 4,  5,  6,  8,  9,  10, 12, 19, 21),\n",
    "                          (24, 17, 20, 7, 16, 18, 11, 15, 23, 13, 14, 25, 22))\n",
    "    \n",
    "    def rot_map(self, pos_in):\n",
    "        pos = pos_in\n",
    "        for i in range(len(self.rotators)):\n",
    "            # retrieve the signal incomming pin, i.e. input pin of ith rotator\n",
    "            pin_in = self.r[i][pos]\n",
    "            # get the output pin of rotator i\n",
    "            pin_out = self.rotators[i][pin_in]\n",
    "            # get the absolute position of the output of ith rotator\n",
    "            pos = self.r[i].index(pin_out)            \n",
    "        return pos\n",
    "        \n",
    "    def inv_rot_map(self, pos_back):\n",
    "        pos = pos_back\n",
    "        for i in range(len(self.rotators) - 1, -1, -1):\n",
    "            pin_in_back = self.r[i][pos]\n",
    "            pin_out_back = self.rotators[i].index(pin_in_back)\n",
    "            pos = self.r[i].index(pin_out_back)\n",
    "        return pos\n",
    "    \n",
    "    def reflect(self, pos):\n",
    "        row = pos in self.reflector[1]\n",
    "        pal = self.reflector[1-row][self.reflector[row].index(pos)]\n",
    "        return pal\n",
    "    \n",
    "    def rot_wheel(self):\n",
    "        self.cum = (self.cum + 1) % 26**3\n",
    "        self.wheel_read[2] = self.cum%26\n",
    "        self.wheel_read[1] = (self.cum//26)%26\n",
    "        self.wheel_read[0] = (self.cum//26**2)%26\n",
    "        self.r = [[(self.wheel_read[0] + i)%26 for i in range(26) ],\n",
    "                  [(self.wheel_read[1] + i)%26 for i in range(26) ],\n",
    "                  [(self.wheel_read[2] + i)%26 for i in range(26) ]]\n",
    "        \n",
    "    def set_wheel(self, wheel_read):\n",
    "        self.wheel_read = wheel_read\n",
    "        self.cum = self.wheel_read[0]*26*26 + self.wheel_read[1]*26 + self.wheel_read[2]\n",
    "        self.r = [[(self.wheel_read[0] + i)%26 for i in range(26) ],\n",
    "                  [(self.wheel_read[1] + i)%26 for i in range(26) ],\n",
    "                  [(self.wheel_read[2] + i)%26 for i in range(26) ]]\n",
    "        \n",
    "    def press(self, pos_in):\n",
    "#         print(self.wheel_read)\n",
    "        self.rot_wheel()\n",
    "        output = self.inv_rot_map(self.reflect(self.rot_map(pos_in)))\n",
    "        return output\n",
    "    \n",
    "    def encode(self, message, wheel_read):\n",
    "        l = map(ord, message.strip().lower())\n",
    "        msg = map( chr, filter(lambda x: 97<=x<=122, l) )\n",
    "        self.set_wheel(wheel_read)\n",
    "        \n",
    "        cipher = \"\"\n",
    "        for char in msg:\n",
    "            cipher += chr(self.press(ord(char) - 97) + 97)\n",
    "        return cipher\n",
    "        \n",
    "    "
   ]
  },
  {
   "cell_type": "code",
   "execution_count": 8,
   "metadata": {},
   "outputs": [
    {
     "name": "stdout",
     "output_type": "stream",
     "text": [
      "jdhfapysfjsforvnrscrjd\n"
     ]
    }
   ],
   "source": [
    "e = enigma([0,0,0])\n",
    "message = \"helloworld xiaolingling\"\n",
    "cipher = e.encode(message, [6, 8, 10])\n",
    "print(cipher)\n",
    "e.encode(cipher, [6, 8, 10])"
   ]
  },
  {
   "cell_type": "code",
   "execution_count": 4,
   "metadata": {
    "collapsed": true
   },
   "outputs": [],
   "source": [
    "def test(n, base):\n",
    "    quotien = n\n",
    "    res = []\n",
    "    while(quotien > 0):\n",
    "        res.insert(0,quotien%base)\n",
    "        quotien = quotien // base\n",
    "    return res"
   ]
  },
  {
   "cell_type": "code",
   "execution_count": 81,
   "metadata": {},
   "outputs": [
    {
     "data": {
      "text/plain": [
       "'helloworld'"
      ]
     },
     "execution_count": 81,
     "metadata": {},
     "output_type": "execute_result"
    }
   ],
   "source": [
    "s = \"Hello World, &^\"\n",
    "\n",
    "l = map(ord, s.strip().lower())\n",
    "\n",
    "ss = list(map( chr, filter(lambda x: 97<=x<=122, l) ))\n",
    "\n",
    "str.join('', ss)"
   ]
  },
  {
   "cell_type": "code",
   "execution_count": 76,
   "metadata": {},
   "outputs": [
    {
     "data": {
      "text/plain": [
       "''"
      ]
     },
     "execution_count": 76,
     "metadata": {},
     "output_type": "execute_result"
    }
   ],
   "source": [
    "'-'.join(list(ss))"
   ]
  },
  {
   "cell_type": "code",
   "execution_count": 10,
   "metadata": {
    "collapsed": true
   },
   "outputs": [],
   "source": [
    "import random"
   ]
  },
  {
   "cell_type": "code",
   "execution_count": 11,
   "metadata": {
    "collapsed": true
   },
   "outputs": [],
   "source": [
    "a = [1,2,3,4]"
   ]
  },
  {
   "cell_type": "code",
   "execution_count": 12,
   "metadata": {},
   "outputs": [
    {
     "name": "stdout",
     "output_type": "stream",
     "text": [
      "None\n"
     ]
    }
   ],
   "source": [
    "print(random.shuffle(a))"
   ]
  },
  {
   "cell_type": "code",
   "execution_count": 14,
   "metadata": {},
   "outputs": [
    {
     "data": {
      "text/plain": [
       "[1, 3, 2, 4]"
      ]
     },
     "execution_count": 14,
     "metadata": {},
     "output_type": "execute_result"
    }
   ],
   "source": [
    "a"
   ]
  },
  {
   "cell_type": "code",
   "execution_count": 15,
   "metadata": {
    "collapsed": true
   },
   "outputs": [],
   "source": [
    "a = [[1,2,3,4]]*5"
   ]
  },
  {
   "cell_type": "code",
   "execution_count": 16,
   "metadata": {},
   "outputs": [
    {
     "data": {
      "text/plain": [
       "[[1, 2, 3, 4], [1, 2, 3, 4], [1, 2, 3, 4], [1, 2, 3, 4], [1, 2, 3, 4]]"
      ]
     },
     "execution_count": 16,
     "metadata": {},
     "output_type": "execute_result"
    }
   ],
   "source": [
    "a"
   ]
  },
  {
   "cell_type": "code",
   "execution_count": 19,
   "metadata": {},
   "outputs": [],
   "source": [
    "b = map(random.shuffle, a)"
   ]
  },
  {
   "cell_type": "code",
   "execution_count": 18,
   "metadata": {},
   "outputs": [
    {
     "data": {
      "text/plain": [
       "[[1, 2, 3, 4], [1, 2, 3, 4], [1, 2, 3, 4], [1, 2, 3, 4], [1, 2, 3, 4]]"
      ]
     },
     "execution_count": 18,
     "metadata": {},
     "output_type": "execute_result"
    }
   ],
   "source": [
    "a"
   ]
  },
  {
   "cell_type": "code",
   "execution_count": 22,
   "metadata": {
    "collapsed": true
   },
   "outputs": [],
   "source": [
    "for i in range(5):\n",
    "    random.shuffle(a[i])"
   ]
  },
  {
   "cell_type": "code",
   "execution_count": 23,
   "metadata": {},
   "outputs": [
    {
     "data": {
      "text/plain": [
       "[[3, 1, 4, 2], [3, 1, 4, 2], [3, 1, 4, 2], [3, 1, 4, 2], [3, 1, 4, 2]]"
      ]
     },
     "execution_count": 23,
     "metadata": {},
     "output_type": "execute_result"
    }
   ],
   "source": [
    "a"
   ]
  },
  {
   "cell_type": "code",
   "execution_count": null,
   "metadata": {
    "collapsed": true
   },
   "outputs": [],
   "source": []
  }
 ],
 "metadata": {
  "kernelspec": {
   "display_name": "Python 3",
   "language": "python",
   "name": "python3"
  },
  "language_info": {
   "codemirror_mode": {
    "name": "ipython",
    "version": 3
   },
   "file_extension": ".py",
   "mimetype": "text/x-python",
   "name": "python",
   "nbconvert_exporter": "python",
   "pygments_lexer": "ipython3",
   "version": "3.6.3"
  }
 },
 "nbformat": 4,
 "nbformat_minor": 2
}
